{
 "cells": [
  {
   "cell_type": "code",
   "execution_count": 22,
   "id": "bf2bca49",
   "metadata": {},
   "outputs": [],
   "source": [
    "import numpy as np\n",
    "import matplotlib.pyplot as pl\n",
    "# assume that r=4 and h=1"
   ]
  },
  {
   "cell_type": "code",
   "execution_count": 2,
   "id": "5aa23758",
   "metadata": {},
   "outputs": [],
   "source": [
    "def focal_dist(rad,dep):\n",
    "    f = (rad**2)/(4*dep)\n",
    "    return f"
   ]
  },
  {
   "cell_type": "code",
   "execution_count": 3,
   "id": "747de81e",
   "metadata": {},
   "outputs": [],
   "source": [
    "def surf_area(rad,dep):\n",
    "    s = ((np.pi*rad)/(6*dep**2))*((4*dep**2+rad**2)**(3/2)-rad**3)\n",
    "    return s"
   ]
  },
  {
   "cell_type": "code",
   "execution_count": 4,
   "id": "8a3ff406",
   "metadata": {},
   "outputs": [],
   "source": [
    "def cruc_area(rad,dep,d):\n",
    "    f=focal_dist(rad,dep)\n",
    "    c=np.pi*(rad*(f-dep-d)/(f-dep))**2\n",
    "    return c"
   ]
  },
  {
   "cell_type": "code",
   "execution_count": 7,
   "id": "682bb2f5",
   "metadata": {},
   "outputs": [
    {
     "data": {
      "text/plain": [
       "296.3471503956127"
      ]
     },
     "execution_count": 7,
     "metadata": {},
     "output_type": "execute_result"
    }
   ],
   "source": [
    "surf_area(80**(1/2),4)"
   ]
  },
  {
   "cell_type": "code",
   "execution_count": 8,
   "id": "ca51b4f7",
   "metadata": {},
   "outputs": [
    {
     "data": {
      "text/plain": [
       "2.5132741228718736"
      ]
     },
     "execution_count": 8,
     "metadata": {},
     "output_type": "execute_result"
    }
   ],
   "source": [
    "cruc_area(80**(1/2),4,0.9)"
   ]
  },
  {
   "cell_type": "code",
   "execution_count": 9,
   "id": "9d2fec2c",
   "metadata": {},
   "outputs": [
    {
     "data": {
      "text/plain": [
       "25.0"
      ]
     },
     "execution_count": 9,
     "metadata": {},
     "output_type": "execute_result"
    }
   ],
   "source": [
    "focal_dist(10,1)"
   ]
  },
  {
   "cell_type": "code",
   "execution_count": 18,
   "id": "7fee730c",
   "metadata": {},
   "outputs": [],
   "source": [
    "def irr_cap(rad,dep,d,alpha,i):\n",
    "    sa = surf_area(rad,dep)\n",
    "    sc = cruc_area(rad,dep,d)\n",
    "    if(sc==0):\n",
    "        return None\n",
    "    irr = i*alpha*sa/sc\n",
    "    return irr"
   ]
  },
  {
   "cell_type": "code",
   "execution_count": 11,
   "id": "2d52320d",
   "metadata": {},
   "outputs": [],
   "source": [
    "def total_power(rad,dep,alpha,i):\n",
    "    sa = surf_area(rad,dep)\n",
    "    p=i*alpha*sa"
   ]
  },
  {
   "cell_type": "code",
   "execution_count": 50,
   "id": "da7297ca",
   "metadata": {},
   "outputs": [],
   "source": [
    "def tp(sa,alpha,i):\n",
    "    return i*alpha*sa"
   ]
  },
  {
   "cell_type": "code",
   "execution_count": 28,
   "id": "7b7def03",
   "metadata": {},
   "outputs": [],
   "source": [
    "dep = 1\n",
    "alpha = 0.9\n",
    "solar = 1200 # Watts/meters^2"
   ]
  },
  {
   "cell_type": "code",
   "execution_count": 55,
   "id": "aa394204",
   "metadata": {},
   "outputs": [],
   "source": [
    "csa1 = np.zeros((200))\n",
    "csa2 = np.zeros((200))\n",
    "csa3 = np.zeros((200))\n",
    "\n",
    "x1 = np.zeros((200))\n",
    "x2 = np.zeros((200))\n",
    "x3 = np.zeros((200))\n",
    "\n",
    "rad = 5\n",
    "f=focal_dist(rad,dep)\n",
    "sa = surf_area(rad,dep)\n",
    "pg = tp(sa,alpha,solar)\n",
    "\n",
    "for i in range(200):\n",
    "    x1[i] = (f/200)*i\n",
    "    csa1[i] = cruc_area(rad,dep,x1[i]) # value for the crucible surface area / focal surface area\n",
    "\n",
    "rad = 10\n",
    "f=focal_dist(rad,dep)\n",
    "sa = surf_area(rad,dep)\n",
    "pg = tp(sa,alpha,solar)\n",
    "    \n",
    "for i in range(200):\n",
    "    x2[i] = (f/200)*i\n",
    "    csa2[i] = cruc_area(rad,dep,x2[i]) # value for the crucible surface area / focal surface area\n",
    "\n",
    "rad = 15\n",
    "f=focal_dist(rad,dep)\n",
    "sa = surf_area(rad,dep)\n",
    "pg = tp(sa,alpha,solar)\n",
    "    \n",
    "for i in range(200):\n",
    "    x3[i] = (f/200)*i\n",
    "    csa3[i] = cruc_area(rad,dep,x3[i]) # value for the crucible surface area / focal surface area\n"
   ]
  },
  {
   "cell_type": "code",
   "execution_count": 48,
   "id": "1a443017",
   "metadata": {},
   "outputs": [],
   "source": [
    "jj = np.zeros((200))\n",
    "for j in range(200):\n",
    "    jj[j] = 0.1175*j\n",
    "    ic[j] = irr_cap(rad,dep,jj[j],alpha,solar) # value for the crucible surface area / focal surface area"
   ]
  },
  {
   "cell_type": "code",
   "execution_count": 16,
   "id": "5162f2ef",
   "metadata": {},
   "outputs": [],
   "source": [
    "sa = range(1,100)\n",
    "for i in range(100):\n",
    "    pg = tp(sa,0.9,1200)"
   ]
  },
  {
   "cell_type": "code",
   "execution_count": 57,
   "id": "d8369415",
   "metadata": {},
   "outputs": [
    {
     "data": {
      "image/png": "[encoded data removed]",
      "text/plain": [
       "<Figure size 432x288 with 1 Axes>"
      ]
     },
     "metadata": {
      "needs_background": "light"
     },
     "output_type": "display_data"
    }
   ],
   "source": [
    "pl.plot(x1,csa1,label = \"rad = 5\")\n",
    "pl.plot(x1,csa2,label = \"rad = 10\")\n",
    "pl.plot(x1,csa3,label = \"rad = 15\")\n",
    "\n",
    "pl.legend()\n",
    "pl.xlabel('Distance from Opening of Parabolic Mirror')\n",
    "pl.ylabel('Surface Area of Reflected Light')\n",
    "\n",
    "pl.show()"
   ]
  },
  {
   "cell_type": "code",
   "execution_count": 58,
   "id": "5673730d",
   "metadata": {},
   "outputs": [
    {
     "data": {
      "image/png": "[encoded data removed]",
      "text/plain": [
       "<Figure size 432x288 with 1 Axes>"
      ]
     },
     "metadata": {
      "needs_background": "light"
     },
     "output_type": "display_data"
    }
   ],
   "source": [
    "pl.plot(jj,ic)\n",
    "pl.xlabel('Distance from Opening of Parabolic Mirror')\n",
    "pl.ylabel('Irradiance on the surface of the Crucible')\n",
    "pl.show()"
   ]
  },
  {
   "cell_type": "code",
   "execution_count": null,
   "id": "3a31a365",
   "metadata": {},
   "outputs": [],
   "source": []
  }
 ],
 "metadata": {
  "kernelspec": {
   "display_name": "Python 3 (ipykernel)",
   "language": "python",
   "name": "python3"
  },
  "language_info": {
   "codemirror_mode": {
    "name": "ipython",
    "version": 3
   },
   "file_extension": ".py",
   "mimetype": "text/x-python",
   "name": "python",
   "nbconvert_exporter": "python",
   "pygments_lexer": "ipython3",
   "version": "3.9.12"
  }
 },
 "nbformat": 4,
 "nbformat_minor": 5
}
